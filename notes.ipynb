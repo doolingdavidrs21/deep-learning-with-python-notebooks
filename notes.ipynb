{
 "cells": [
  {
   "cell_type": "markdown",
   "id": "7cd8872c-16e9-4f74-b3d2-ca3deb44233c",
   "metadata": {},
   "source": [
    "# Source Code\n",
    "\n",
    "All code examples in this book are available for download as Jupyter notebooks from the book's website http://www.manning.com/books/deep-learning-with-python and on Github at https://github.com/fchollet/deep-learning-with-python-notebooks"
   ]
  },
  {
   "cell_type": "code",
   "execution_count": null,
   "id": "5d0a6704-3ccc-4b57-9eaf-1b6aac18b0f7",
   "metadata": {},
   "outputs": [],
   "source": []
  }
 ],
 "metadata": {
  "kernelspec": {
   "display_name": "Python 3",
   "language": "python",
   "name": "python3"
  },
  "language_info": {
   "codemirror_mode": {
    "name": "ipython",
    "version": 3
   },
   "file_extension": ".py",
   "mimetype": "text/x-python",
   "name": "python",
   "nbconvert_exporter": "python",
   "pygments_lexer": "ipython3",
   "version": "3.8.10"
  }
 },
 "nbformat": 4,
 "nbformat_minor": 5
}
